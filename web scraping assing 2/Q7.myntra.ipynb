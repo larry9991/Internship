{
 "cells": [
  {
   "cell_type": "code",
   "execution_count": 4,
   "id": "4c51d511",
   "metadata": {},
   "outputs": [],
   "source": [
    "import numpy as np\n",
    "import pandas as pd\n",
    "import selenium\n",
    "from selenium import webdriver\n",
    "from selenium.webdriver.common.by import By\n",
    "import warnings\n",
    "warnings.filterwarnings ('ignore')\n",
    "import time\n"
   ]
  },
  {
   "cell_type": "code",
   "execution_count": 14,
   "id": "b0c899fe",
   "metadata": {},
   "outputs": [],
   "source": [
    "driver=webdriver.Chrome(r'D:\\chromedriver.exe')"
   ]
  },
  {
   "cell_type": "code",
   "execution_count": 15,
   "id": "2cea5001",
   "metadata": {},
   "outputs": [],
   "source": [
    "url='http://www.myntra.com/shoes'\n",
    "driver.get(url)"
   ]
  },
  {
   "cell_type": "code",
   "execution_count": 18,
   "id": "f232ef3f",
   "metadata": {},
   "outputs": [],
   "source": [
    "price_filter=driver.find_element(By.XPATH,'//*[@id=\"mountRoot\"]/div/main/div[3]/div[1]/section/div/div[5]/ul/li[1]/label/div')\n",
    "price_filter.click()\n"
   ]
  },
  {
   "cell_type": "code",
   "execution_count": 17,
   "id": "622d3556",
   "metadata": {},
   "outputs": [],
   "source": [
    "col_filter=driver.find_element(By.XPATH,'//*[@id=\"mountRoot\"]/div/main/div[3]/div[1]/section/div/div[6]/ul/li[4]/label/div')\n",
    "col_filter.click()\n"
   ]
  },
  {
   "cell_type": "code",
   "execution_count": 26,
   "id": "0c452709",
   "metadata": {},
   "outputs": [],
   "source": [
    "brand=[]\n",
    "start=0\n",
    "end=2\n",
    "for page in range(start,end):\n",
    "    brand_tags=driver.find_elements(By.XPATH,\"//h3[@class='product-brand']\")\n",
    "    for i in brand_tags:\n",
    "        brand.append(i.text)\n",
    "    next_button=driver.find_element(By.XPATH,'//*[@id=\"desktopSearchResults\"]/div[2]/section/div[2]/ul/li[12]/a') \n",
    "    next_button.click()\n",
    "    time.sleep(3)"
   ]
  },
  {
   "cell_type": "code",
   "execution_count": 31,
   "id": "ea3340f2",
   "metadata": {},
   "outputs": [],
   "source": [
    "firstpage=driver.find_element(By.XPATH,'/html/body/div[2]/div/main/div[3]/div[2]/div/div[2]/section/div[2]/ul/li[3]/a')\n",
    "firstpage.click()\n"
   ]
  },
  {
   "cell_type": "code",
   "execution_count": 32,
   "id": "d2f9b2ba",
   "metadata": {},
   "outputs": [],
   "source": [
    "\n",
    "disc=[]\n",
    "start=0\n",
    "end=2\n",
    "for page in range(start,end):\n",
    "    disc_tags=driver.find_elements(By.XPATH,\"//h4[@class='product-product']\")\n",
    "    for i in disc_tags:\n",
    "        disc.append(i.text)\n",
    "    next_button=driver.find_element(By.XPATH,'//*[@id=\"desktopSearchResults\"]/div[2]/section/div[2]/ul/li[12]/a') \n",
    "    next_button.click()\n",
    "    time.sleep(3)"
   ]
  },
  {
   "cell_type": "code",
   "execution_count": 33,
   "id": "1893aa84",
   "metadata": {},
   "outputs": [],
   "source": [
    "firstpage=driver.find_element(By.XPATH,'/html/body/div[2]/div/main/div[3]/div[2]/div/div[2]/section/div[2]/ul/li[3]/a')\n",
    "firstpage.click()\n"
   ]
  },
  {
   "cell_type": "code",
   "execution_count": 34,
   "id": "93e9312f",
   "metadata": {},
   "outputs": [],
   "source": [
    "\n",
    "price=[]\n",
    "start=0\n",
    "end=2\n",
    "for page in range(start,end):\n",
    "    price_tags=driver.find_elements(By.XPATH,\"//div[@class='product-price']\")\n",
    "    for i in price_tags:\n",
    "        price.append(i.text)\n",
    "    next_button=driver.find_element(By.XPATH,'//*[@id=\"desktopSearchResults\"]/div[2]/section/div[2]/ul/li[12]/a') \n",
    "    next_button.click()\n",
    "    time.sleep(3)"
   ]
  },
  {
   "cell_type": "code",
   "execution_count": 35,
   "id": "265217ad",
   "metadata": {},
   "outputs": [
    {
     "data": {
      "text/plain": [
       "100"
      ]
     },
     "execution_count": 35,
     "metadata": {},
     "output_type": "execute_result"
    }
   ],
   "source": [
    "len(price)"
   ]
  },
  {
   "cell_type": "code",
   "execution_count": 36,
   "id": "eb6d2a66",
   "metadata": {},
   "outputs": [],
   "source": [
    "df=pd.DataFrame({'Brand':brand,'Discription':disc,'Price':price})"
   ]
  },
  {
   "cell_type": "code",
   "execution_count": 37,
   "id": "73baff60",
   "metadata": {},
   "outputs": [
    {
     "data": {
      "text/html": [
       "<div>\n",
       "<style scoped>\n",
       "    .dataframe tbody tr th:only-of-type {\n",
       "        vertical-align: middle;\n",
       "    }\n",
       "\n",
       "    .dataframe tbody tr th {\n",
       "        vertical-align: top;\n",
       "    }\n",
       "\n",
       "    .dataframe thead th {\n",
       "        text-align: right;\n",
       "    }\n",
       "</style>\n",
       "<table border=\"1\" class=\"dataframe\">\n",
       "  <thead>\n",
       "    <tr style=\"text-align: right;\">\n",
       "      <th></th>\n",
       "      <th>Brand</th>\n",
       "      <th>Discription</th>\n",
       "      <th>Price</th>\n",
       "    </tr>\n",
       "  </thead>\n",
       "  <tbody>\n",
       "    <tr>\n",
       "      <th>0</th>\n",
       "      <td>U.S. Polo Assn.</td>\n",
       "      <td>Men Clarkin Sneakers</td>\n",
       "      <td>Rs. 1649Rs. 2999(45% OFF)</td>\n",
       "    </tr>\n",
       "    <tr>\n",
       "      <th>1</th>\n",
       "      <td>Roadster</td>\n",
       "      <td>Men Sneakers</td>\n",
       "      <td>Rs. 872Rs. 3795(77% OFF)</td>\n",
       "    </tr>\n",
       "    <tr>\n",
       "      <th>2</th>\n",
       "      <td>HIGHLANDER</td>\n",
       "      <td>Men Sneakers</td>\n",
       "      <td>Rs. 975Rs. 1990(51% OFF)</td>\n",
       "    </tr>\n",
       "    <tr>\n",
       "      <th>3</th>\n",
       "      <td>Mactree</td>\n",
       "      <td>Men Colourblocked PU Sneakers</td>\n",
       "      <td>Rs. 798Rs. 4200(81% OFF)</td>\n",
       "    </tr>\n",
       "    <tr>\n",
       "      <th>4</th>\n",
       "      <td>Red Tape</td>\n",
       "      <td>Women Sneakers</td>\n",
       "      <td>Rs. 1295Rs. 4799(73% OFF)</td>\n",
       "    </tr>\n",
       "    <tr>\n",
       "      <th>...</th>\n",
       "      <td>...</td>\n",
       "      <td>...</td>\n",
       "      <td>...</td>\n",
       "    </tr>\n",
       "    <tr>\n",
       "      <th>95</th>\n",
       "      <td>Killer</td>\n",
       "      <td>Men Solid Sneakers</td>\n",
       "      <td>Rs. 3499</td>\n",
       "    </tr>\n",
       "    <tr>\n",
       "      <th>96</th>\n",
       "      <td>H&amp;M</td>\n",
       "      <td>Textured Sneakers</td>\n",
       "      <td>Rs. 798Rs. 4200(81% OFF)</td>\n",
       "    </tr>\n",
       "    <tr>\n",
       "      <th>97</th>\n",
       "      <td>Puma</td>\n",
       "      <td>Women Shuffle Max Sneakers</td>\n",
       "      <td>Rs. 1899Rs. 1999(Rs. 100 OFF)</td>\n",
       "    </tr>\n",
       "    <tr>\n",
       "      <th>98</th>\n",
       "      <td>ADIDAS</td>\n",
       "      <td>Men EQ21 Run Running Shoes</td>\n",
       "      <td>Rs. 872Rs. 3795(77% OFF)</td>\n",
       "    </tr>\n",
       "    <tr>\n",
       "      <th>99</th>\n",
       "      <td>UNDER ARMOUR</td>\n",
       "      <td>Women Surge 3 Running Shoes</td>\n",
       "      <td>Rs. 1139Rs. 1999(43% OFF)</td>\n",
       "    </tr>\n",
       "  </tbody>\n",
       "</table>\n",
       "<p>100 rows × 3 columns</p>\n",
       "</div>"
      ],
      "text/plain": [
       "              Brand                    Discription  \\\n",
       "0   U.S. Polo Assn.           Men Clarkin Sneakers   \n",
       "1          Roadster                   Men Sneakers   \n",
       "2        HIGHLANDER                   Men Sneakers   \n",
       "3           Mactree  Men Colourblocked PU Sneakers   \n",
       "4          Red Tape                 Women Sneakers   \n",
       "..              ...                            ...   \n",
       "95           Killer             Men Solid Sneakers   \n",
       "96              H&M              Textured Sneakers   \n",
       "97             Puma     Women Shuffle Max Sneakers   \n",
       "98           ADIDAS     Men EQ21 Run Running Shoes   \n",
       "99     UNDER ARMOUR    Women Surge 3 Running Shoes   \n",
       "\n",
       "                            Price  \n",
       "0       Rs. 1649Rs. 2999(45% OFF)  \n",
       "1        Rs. 872Rs. 3795(77% OFF)  \n",
       "2        Rs. 975Rs. 1990(51% OFF)  \n",
       "3        Rs. 798Rs. 4200(81% OFF)  \n",
       "4       Rs. 1295Rs. 4799(73% OFF)  \n",
       "..                            ...  \n",
       "95                       Rs. 3499  \n",
       "96       Rs. 798Rs. 4200(81% OFF)  \n",
       "97  Rs. 1899Rs. 1999(Rs. 100 OFF)  \n",
       "98       Rs. 872Rs. 3795(77% OFF)  \n",
       "99      Rs. 1139Rs. 1999(43% OFF)  \n",
       "\n",
       "[100 rows x 3 columns]"
      ]
     },
     "execution_count": 37,
     "metadata": {},
     "output_type": "execute_result"
    }
   ],
   "source": [
    "df"
   ]
  },
  {
   "cell_type": "code",
   "execution_count": null,
   "id": "ffdae250",
   "metadata": {},
   "outputs": [],
   "source": []
  }
 ],
 "metadata": {
  "kernelspec": {
   "display_name": "Python 3 (ipykernel)",
   "language": "python",
   "name": "python3"
  },
  "language_info": {
   "codemirror_mode": {
    "name": "ipython",
    "version": 3
   },
   "file_extension": ".py",
   "mimetype": "text/x-python",
   "name": "python",
   "nbconvert_exporter": "python",
   "pygments_lexer": "ipython3",
   "version": "3.9.12"
  }
 },
 "nbformat": 4,
 "nbformat_minor": 5
}
