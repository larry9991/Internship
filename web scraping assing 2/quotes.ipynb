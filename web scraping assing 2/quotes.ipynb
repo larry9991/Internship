{
 "cells": [
  {
   "cell_type": "code",
   "execution_count": 2,
   "id": "eea6b8a0",
   "metadata": {},
   "outputs": [],
   "source": [
    "import numpy as np\n",
    "import pandas as pd\n",
    "import selenium\n",
    "from selenium import webdriver\n",
    "from selenium.webdriver.common.by import By\n",
    "import warnings\n",
    "warnings.filterwarnings ('ignore')\n",
    "import time\n"
   ]
  },
  {
   "cell_type": "code",
   "execution_count": 3,
   "id": "e3bbf025",
   "metadata": {},
   "outputs": [],
   "source": [
    "driver=webdriver.Chrome(r'D:\\chromedriver.exe')"
   ]
  },
  {
   "cell_type": "code",
   "execution_count": 4,
   "id": "7a61944b",
   "metadata": {},
   "outputs": [],
   "source": [
    "url='https://www.azquotes.com/'\n",
    "driver.get(url)"
   ]
  },
  {
   "cell_type": "code",
   "execution_count": 5,
   "id": "b49f1e52",
   "metadata": {},
   "outputs": [],
   "source": [
    "search_bt=driver.find_element(By.XPATH,'//*[@id=\"menu\"]/div/div[3]/ul/li[5]/a')\n",
    "search_bt.click()\n"
   ]
  },
  {
   "cell_type": "code",
   "execution_count": 7,
   "id": "00213866",
   "metadata": {},
   "outputs": [],
   "source": [
    "quotes=[]\n",
    "start=0\n",
    "end=10\n",
    "for page in range(start,end):\n",
    "    titles_tags=driver.find_elements(By.XPATH,'//a[@class=\"title\"]')\n",
    "    for i in titles_tags:\n",
    "        quotes.append(i.text)\n",
    "    next_button=driver.find_element(By.XPATH,'/html/body/div[1]/div[2]/div/div/div/div[1]/div/div[3]/li[12]/a')    \n",
    "    next_button.click()\n",
    "    time.sleep(3)"
   ]
  },
  {
   "cell_type": "code",
   "execution_count": 8,
   "id": "3bd4cdc0",
   "metadata": {},
   "outputs": [],
   "source": [
    "first=driver.find_element(By.XPATH,'//*[@id=\"content\"]/div/div[1]/div/div[3]/li[1]/a')\n",
    "first.click()"
   ]
  },
  {
   "cell_type": "code",
   "execution_count": 9,
   "id": "4d97ec6b",
   "metadata": {},
   "outputs": [],
   "source": [
    "aut=[]\n",
    "start=0\n",
    "end=10\n",
    "for page in range(start,end):\n",
    "    auto_tags=driver.find_elements(By.XPATH,'//div[@class=\"author\"]')\n",
    "    for i in auto_tags:\n",
    "        aut.append(i.text)\n",
    "    next_button=driver.find_element(By.XPATH,'/html/body/div[1]/div[2]/div/div/div/div[1]/div/div[3]/li[12]/a')    \n",
    "    next_button.click()\n",
    "    time.sleep(3)"
   ]
  },
  {
   "cell_type": "code",
   "execution_count": 10,
   "id": "7bca0d14",
   "metadata": {},
   "outputs": [],
   "source": [
    "first=driver.find_element(By.XPATH,'//*[@id=\"content\"]/div/div[1]/div/div[3]/li[1]/a')\n",
    "first.click()"
   ]
  },
  {
   "cell_type": "code",
   "execution_count": 11,
   "id": "f5af1459",
   "metadata": {},
   "outputs": [],
   "source": [
    "Typeofquote=[]\n",
    "start=0\n",
    "end=10\n",
    "for page in range(start,end):\n",
    "    typ_tags=driver.find_elements(By.XPATH,'//div[@class=\"tags\"]')\n",
    "    for i in typ_tags:\n",
    "        Typeofquote.append(i.text)\n",
    "    next_button=driver.find_element(By.XPATH,'/html/body/div[1]/div[2]/div/div/div/div[1]/div/div[3]/li[12]/a')    \n",
    "    next_button.click()\n",
    "    time.sleep(3)"
   ]
  },
  {
   "cell_type": "code",
   "execution_count": 12,
   "id": "739193c0",
   "metadata": {},
   "outputs": [
    {
     "data": {
      "text/plain": [
       "1000"
      ]
     },
     "execution_count": 12,
     "metadata": {},
     "output_type": "execute_result"
    }
   ],
   "source": [
    "len(Typeofquote)"
   ]
  },
  {
   "cell_type": "code",
   "execution_count": 13,
   "id": "55fb28a6",
   "metadata": {},
   "outputs": [],
   "source": [
    "df=pd.DataFrame({'Quotes':quotes,'Autors':aut,'Type of quotes':Typeofquote})"
   ]
  },
  {
   "cell_type": "code",
   "execution_count": 15,
   "id": "5c2f781e",
   "metadata": {},
   "outputs": [
    {
     "data": {
      "text/html": [
       "<div>\n",
       "<style scoped>\n",
       "    .dataframe tbody tr th:only-of-type {\n",
       "        vertical-align: middle;\n",
       "    }\n",
       "\n",
       "    .dataframe tbody tr th {\n",
       "        vertical-align: top;\n",
       "    }\n",
       "\n",
       "    .dataframe thead th {\n",
       "        text-align: right;\n",
       "    }\n",
       "</style>\n",
       "<table border=\"1\" class=\"dataframe\">\n",
       "  <thead>\n",
       "    <tr style=\"text-align: right;\">\n",
       "      <th></th>\n",
       "      <th>Quotes</th>\n",
       "      <th>Autors</th>\n",
       "      <th>Type of quotes</th>\n",
       "    </tr>\n",
       "  </thead>\n",
       "  <tbody>\n",
       "    <tr>\n",
       "      <th>0</th>\n",
       "      <td>The essence of strategy is choosing what not t...</td>\n",
       "      <td>Michael Porter</td>\n",
       "      <td>Essence, Deep Thought, Transcendentalism</td>\n",
       "    </tr>\n",
       "    <tr>\n",
       "      <th>1</th>\n",
       "      <td>One cannot and must not try to erase the past ...</td>\n",
       "      <td>Golda Meir</td>\n",
       "      <td>Inspiration, Past, Trying</td>\n",
       "    </tr>\n",
       "    <tr>\n",
       "      <th>2</th>\n",
       "      <td>Patriotism means to stand by the country. It d...</td>\n",
       "      <td>Theodore Roosevelt</td>\n",
       "      <td>Country, Peace, War</td>\n",
       "    </tr>\n",
       "    <tr>\n",
       "      <th>3</th>\n",
       "      <td>Death is something inevitable. When a man has ...</td>\n",
       "      <td>Nelson Mandela</td>\n",
       "      <td>Inspirational, Motivational, Death</td>\n",
       "    </tr>\n",
       "    <tr>\n",
       "      <th>4</th>\n",
       "      <td>You have to love a nation that celebrates its ...</td>\n",
       "      <td>Erma Bombeck</td>\n",
       "      <td>4th Of July, Food, Patriotic</td>\n",
       "    </tr>\n",
       "  </tbody>\n",
       "</table>\n",
       "</div>"
      ],
      "text/plain": [
       "                                              Quotes              Autors  \\\n",
       "0  The essence of strategy is choosing what not t...      Michael Porter   \n",
       "1  One cannot and must not try to erase the past ...          Golda Meir   \n",
       "2  Patriotism means to stand by the country. It d...  Theodore Roosevelt   \n",
       "3  Death is something inevitable. When a man has ...      Nelson Mandela   \n",
       "4  You have to love a nation that celebrates its ...        Erma Bombeck   \n",
       "\n",
       "                             Type of quotes  \n",
       "0  Essence, Deep Thought, Transcendentalism  \n",
       "1                 Inspiration, Past, Trying  \n",
       "2                       Country, Peace, War  \n",
       "3        Inspirational, Motivational, Death  \n",
       "4              4th Of July, Food, Patriotic  "
      ]
     },
     "execution_count": 15,
     "metadata": {},
     "output_type": "execute_result"
    }
   ],
   "source": [
    "df.head()"
   ]
  },
  {
   "cell_type": "code",
   "execution_count": null,
   "id": "0a3993ae",
   "metadata": {},
   "outputs": [],
   "source": []
  }
 ],
 "metadata": {
  "kernelspec": {
   "display_name": "Python 3 (ipykernel)",
   "language": "python",
   "name": "python3"
  },
  "language_info": {
   "codemirror_mode": {
    "name": "ipython",
    "version": 3
   },
   "file_extension": ".py",
   "mimetype": "text/x-python",
   "name": "python",
   "nbconvert_exporter": "python",
   "pygments_lexer": "ipython3",
   "version": "3.9.12"
  }
 },
 "nbformat": 4,
 "nbformat_minor": 5
}
