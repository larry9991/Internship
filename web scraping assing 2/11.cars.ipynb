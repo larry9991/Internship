{
 "cells": [
  {
   "cell_type": "code",
   "execution_count": 73,
   "id": "8ad2efbe",
   "metadata": {},
   "outputs": [],
   "source": [
    "import numpy as np\n",
    "import pandas as pd\n",
    "import selenium\n",
    "from selenium import webdriver\n",
    "from selenium.webdriver.common.by import By\n",
    "import warnings\n",
    "warnings.filterwarnings ('ignore')\n",
    "import time\n"
   ]
  },
  {
   "cell_type": "code",
   "execution_count": 74,
   "id": "3bef0935",
   "metadata": {},
   "outputs": [],
   "source": [
    "driver=webdriver.Chrome(r'D:\\chromedriver.exe')"
   ]
  },
  {
   "cell_type": "code",
   "execution_count": 75,
   "id": "d8d3effd",
   "metadata": {},
   "outputs": [],
   "source": [
    "url='https://www.motor1.com/'\n",
    "driver.get(url)"
   ]
  },
  {
   "cell_type": "code",
   "execution_count": 76,
   "id": "3a628137",
   "metadata": {},
   "outputs": [],
   "source": [
    "drop=driver.find_element(By.XPATH,'//*[@id=\"page_index_index_index\"]/div[2]/div/div/div[1]/div')\n",
    "drop.click()"
   ]
  },
  {
   "cell_type": "code",
   "execution_count": 77,
   "id": "7f5cafc7",
   "metadata": {},
   "outputs": [],
   "source": [
    "lists=driver.find_element(By.XPATH,'/html/body/div[3]/div[1]/div[3]/ul/li[4]/a')\n",
    "lists.click()"
   ]
  },
  {
   "cell_type": "code",
   "execution_count": 78,
   "id": "9700c62f",
   "metadata": {},
   "outputs": [],
   "source": [
    "searchcar=driver.find_element(By.XPATH,'//*[@id=\"page_index_articles_browse\"]/div[9]/div[1]/div[1]/div/div/div[1]/div/div[1]/h3/a')\n",
    "searchcar.click()"
   ]
  },
  {
   "cell_type": "code",
   "execution_count": 79,
   "id": "b7d719ca",
   "metadata": {},
   "outputs": [],
   "source": [
    "top=[]\n",
    "top_tags=driver.find_elements(By.XPATH,'//h3[@class=\"subheader\"]')\n",
    "for i in top_tags[0:50]:\n",
    "    top.append(i.text)"
   ]
  },
  {
   "cell_type": "code",
   "execution_count": 80,
   "id": "d202473a",
   "metadata": {},
   "outputs": [],
   "source": [
    "price=[]\n",
    "price_tags=driver.find_elements(By.XPATH,'//*[@id=\"article_box\"]/div[1]/div[2]/div[1]/p')\n",
    "for i in price_tags[0:50]:\n",
    "    price.append(i.text)"
   ]
  },
  {
   "cell_type": "code",
   "execution_count": 81,
   "id": "8f69e88a",
   "metadata": {},
   "outputs": [
    {
     "data": {
      "text/plain": [
       "['When it comes to high-end hypercars and super-fast supercars, a few companies should come to mind first: Bugatti, Ferrari, Koenigsegg, Rimac, and Pagani, among others. These manufacturers have cemented themselves as the top dogs in the supercar and hypercar space, extending to their wealthiest clientele the fastest, rarest, prettiest – and in this case – most expensive cars on the planet.',\n",
       " \"But in order to find out which of these unattainable-to-most vehicles is the priciest, we've scoured the invoice sheets and uncovered 40 cars all worth $1 million or more. The group includes hybrid Ferrari convertibles, an American speed king, a few electric Hypercars, and two a one-of-a-kind Rolls-Royce cars built for royalty.\",\n",
       " 'We should note, though: The prices listed here are the price of the vehicles when new. So we’re not counting auction cars like the Ferrari 250 GTO, or overpriced secondhand sales. But don’t worry, there’s still hundreds of millions worth of cars here to whet your appetite.',\n",
       " 'Price: $1.2 Million',\n",
       " 'The Drako GTE is a super sedan in every sense of the word. Packing 1,200 horsepower and a whopping 6,491 pound-feet of torque from a fully electric powertrain, the GTE can hit 60 in just about 2.0 seconds and tops out at 206 miles per hour. The cost for this family-friendly rocket is a cool $1.2 million.',\n",
       " 'Price: $1.3 Million',\n",
       " 'The De Tomaso P72 is basically the definition of beautiful. The shapely supercar debuted at the 2019 Goodwood Festival Of Speed with a supercharged Ford V8 boasting 700 horsepower. The P72 marked the return of the DeTomaso brand after nearly 30 years on hiatus, and if you want one, it will cost you at least $1.3 million.',\n",
       " 'Price: $1.4 Million',\n",
       " 'At $1.4 million new, the Ferrari LaFerrari is actually one of the most affordable supercars on this list. It’s a bargain compared to the most expensive vehicle here. Debuting in 2013 with 950 hybrid horses (708 kilowatts) and a top speed of around 220 miles per hour (354 kilometers per hour), this is still Ferrari’s fastest and most powerful production model to date. The company built just 499 examples of the coupe between 2013 and 2016.',\n",
       " 'Price: $1.4 Million',\n",
       " 'Inarguably one of the prettiest cars on this list, the Pagani Huayra cost a cool $1.4 million when new. Like the LaFerrari, Pagani built the Huayra in extremely limited numbers. The company hand-constructed just 100 units of the coupe between 2012 and 2018, with another 20 versions of the BC model (which makes our list further down) between 2017 and 2019. Powering each and every example was a Mercedes-AMG V12 capable of 720 horsepower (537 kilowatts).',\n",
       " 'Price: $1.7 Million',\n",
       " 'The McLaren Elva is one of the latest additions to the British supercar maker’s storied legacy. Even without a proper windshield (though, no option) or roof to rely on, the Elva produces 804 horsepower and 590 pound-feet of torque from its twin-turbocharged 4.0-liter V8. Originally McLaren announced just 399 units, but later the company dropped that to an even more scarce 249 examples. Either way, most of you will never get your hands on one – the Elva costs $1.7 million.',\n",
       " 'Price: $1.7 Million',\n",
       " 'You might not know the name Czinger yet, but this California-based boutique automaker is responsible for the $1.7 million 21C supercar. With 1,250 horsepower on tap thanks to a 2.9-liter twin-turbocharged V8, the 21C can rocket to 60 miles per hour in 1.9 seconds and a top speed of around 281 miles per hour.',\n",
       " 'Price: $1.7 Million',\n",
       " 'Much like the roof-less McLaren Elva, the Ferrari Monza SP1 and SP2 are all about al fresco motoring. As the name implies, the SP1 is the single-seater option while the SP2 has just enough room for you to bring along a friend. Both cars come powered by the same naturally aspirated 6.5-liter V12 engine capable of 809 horsepower and 530 pound-feet. Unfortunately for US buyers, neither of these models are street legal in the States. But f you have the funds to afford the car’s $1.75 million price tag, getting onto a track probably won’t be an issue anyway.',\n",
       " 'Price: $1.7 Million',\n",
       " \"The second and slightly more affordable supercar in the new Gordon Murray lineup is the T.33. With 607 horsepower courtesy of a naturally aspirated 3.9-liter V12, the T.33 revs to a ridiculous 10,500 RPM. With a price tag of around $1.7 million at current conversion rates, Gordon Murray automotive promises to sell this car globally, in both right- and left-hand-drive configurations. Too bad it's already sold out.\",\n",
       " 'Price: $1.7 Million',\n",
       " 'One of two Koenigsegg models on this list, the Gemera is actually the Swedish supercar maker’s first four-seater. But that doesn’t mean it’s some family car. With a twin-turbocharged 2.0-liter engine under the hood and three electric motors, the Gemera has 1,700 horsepower and will hit 60 in just 1.9 seconds. The company only plans to build 300 of them, each one costing at least $1.7 million.',\n",
       " 'Price: $1.7 Million',\n",
       " 'Hailing from Denmark, the Zenvo TSR-S debuted in 2018 at the Geneva Motor Show as the most extreme option in the supercar startup’s repertoire. Boasting a twin-charged 5.8-liter V8 engine, the TSR-S produces 1,177 horsepower and will hit 62 miles per hour in just 2.8 seconds. Expect to pay at least $1.7 million to get your hands on this powerful and limited supercar.',\n",
       " 'Price: $1.8 Million',\n",
       " 'The Hennessey Venom GT was a record-breaker, topping out at 265.7 miles per hour in a world record run. But the new F5 plans to beat its predecessor with an estimated top speed of 311 mph, and with that comes a higher price, too. The Venom F5 starts at $1.8 million, according to the company, which makes it just a bit pricier than its $1.2-million predecessor.',\n",
       " 'Price: $1.9 Million',\n",
       " 'With just 12 total units produced, the Bentley Bacalar makes some of the \"limited\" cars on this list look plentiful by comparison. Although the car’s opulent design may be the first thing to grab your attention, the Bacalar is no slouch in terms of performance either. With Bentley’s signature turbocharged 6.0-liter W12 turbocharged engine, this car delivers 650 horsepower and 664 pound-feet. If you have a spare $1.9 million lying around and are considering buying one, you’re already too late – Bentley says that every example is now in customer hands.',\n",
       " 'Price: $1.9 Million',\n",
       " \"To call the Hispano Suiza Carmen Boulogne beautiful would be... a stretch. But this interesting-looking supercar made its US debut at this year's Amelia Island Concours d'Elegance boasting a 1,114-horsepower electric powertrain and a 0-60 time of 2.6 seconds. The Boulogne version pictured here – the lighter and more powerful of the two – costs close to $1.9 million.\",\n",
       " 'Price: $2.0 Million',\n",
       " \"The electric onslaught is coming. Bentley says it will be a fully electric automaker by 2030. But before the luxury brand transitions to battery power fully, the Mulliner Batur helps send the iconic W12 engine off in style. With 710 horsepower from that twin-turbocharged engine, the Batur is the most powerful Bentley ever. And since it's limited to just 18 examples globally, the Batur costs a whopping $2.0 million.\",\n",
       " 'Price: $2.0 Million',\n",
       " 'The Deus Vayanne may not be a household name (yet), but the all-electric hypercar debuted earlier this year with 2,200 horsepower, a 0-60 time of just under 2.0 seconds, and an estimated top speed of 248 miles per hour. Deus plans to build 99 examples of the Vayanne, with the first few examples scheduled to go on sale in 2025.',\n",
       " 'Price: $2.0 Million*',\n",
       " 'Although initially cloaked in controversy, SSC did manage to hit 282.9 miles per hour with its Tuatara hypercar, breaking a world record. But not only is the Tuatara one of the fastest vehicles on the planet, it’s also one of the priciest. The cost for all that speed is estimated to be around $2.0 million for the base Tuatara, limited to just 100 units worldwide.',\n",
       " 'Price: $2.1 Million',\n",
       " 'With a new Emira sports car and an Eletre electric SUV, Lotus is on the brink of a comeback. The automaker plans to roll out a number of new products within the next few years, with part of that strategy including the range-topping Evija. This supercar comes in at a cool $2.1 million and produces nearly 2,000 horsepower via four electric motors. Lotus plans to build just 130 road-going examples of the Evija.',\n",
       " 'Price: $2.3 Million',\n",
       " 'As with a few other cars on this list, the Aston Martin Vulcan was a track-only special. The British supercar made its world debut in 2015, powered by a naturally aspirated 7.0-liter V12 that produced 820 horsepower, and limited to just 24 examples worldwide. An even more track-focused AMR Pro model followed, but even the base Vulcan was a pricey commodity, costing about $2.4-million from the factory.',\n",
       " 'Price: $2.3 Million',\n",
       " 'You may have heard of Delage before. In the early 1900s, this French automaker was competing on the track with Bugatti and Ferrari. Now Delage is back and with a beautiful new hypercar dubbed the D12. Powered by a 7.6-liter V12 engine, the new D12 produces upwards of 1,010 horsepower and costs a cool $2.3 million.',\n",
       " 'Price: $2.3 Million',\n",
       " \"What would you pay for the fastest production McLaren ever? Well, at least $2.3 million. With 1,035 horsepower courtesy of a gasoline-electric hybrid V8 powertrain, the Speedtail tops out at 250 miles per hour and is able to reach 186 mph in just 12.8 seconds – 2.7 seconds faster than the P1. Unfortunately, if you didn't get your hands on one new in 2020, you'll have to shell out serious cash on the used market. McLaren only built 106 examples.\",\n",
       " 'Price: $2.4 Million',\n",
       " 'The Rimac Nevera takes the title of most expensive EV with its $2.4 million price tag – but only by a few hundred thousand dollars over the next priciest electric supercar. Packing 1,914 horsepower and 1,740 pound-feet of torque, the Nevera can hit 60 in under 2.0 seconds and will continue on to a top speed of 258 miles per hour. Those lucky enough to order one should see it in their driveway before the end of 2022.',\n",
       " 'Price: $2.5 Million',\n",
       " 'First came the Zonda, then the Huayra, and now the Pagani Utopia. With 852 horsepower and an available seven-speed manual gearbox, the Utopia is the most powerful road-going Pagani ever produced and it’s limited to just 99 examples worldwide. The cost for one is a cool $2.5 million.',\n",
       " 'Price: $2.5 Million',\n",
       " 'Aptly named after the company’s founder, Battista Farina, the Pininfarina Battista delivers the kind of performance (and price!) to make its namesake proud. Revealed at the 2019 Geneva Motor Show, the Battista is completely electric, putting out 1,827 horsepower. If a normal supercar’s 0 to 60 time sounds too leisurely for you, the company says that the Battista will take you there in under 2.0 seconds. Pininfarina plans on building 150 examples of the Battista, costing $2.5 million each.',\n",
       " 'Price: $2.6 Million']"
      ]
     },
     "execution_count": 81,
     "metadata": {},
     "output_type": "execute_result"
    }
   ],
   "source": [
    "price"
   ]
  },
  {
   "cell_type": "code",
   "execution_count": null,
   "id": "f5064ede",
   "metadata": {},
   "outputs": [],
   "source": []
  },
  {
   "cell_type": "code",
   "execution_count": null,
   "id": "30bf728f",
   "metadata": {},
   "outputs": [],
   "source": []
  }
 ],
 "metadata": {
  "kernelspec": {
   "display_name": "Python 3 (ipykernel)",
   "language": "python",
   "name": "python3"
  },
  "language_info": {
   "codemirror_mode": {
    "name": "ipython",
    "version": 3
   },
   "file_extension": ".py",
   "mimetype": "text/x-python",
   "name": "python",
   "nbconvert_exporter": "python",
   "pygments_lexer": "ipython3",
   "version": "3.9.12"
  }
 },
 "nbformat": 4,
 "nbformat_minor": 5
}
