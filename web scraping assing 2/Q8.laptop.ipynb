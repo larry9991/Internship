{
 "cells": [
  {
   "cell_type": "code",
   "execution_count": 1,
   "id": "0b672d15",
   "metadata": {},
   "outputs": [],
   "source": [
    "import numpy as np\n",
    "import pandas as pd\n",
    "import selenium\n",
    "from selenium import webdriver\n",
    "from selenium.webdriver.common.by import By\n",
    "import warnings\n",
    "warnings.filterwarnings ('ignore')\n",
    "import time\n"
   ]
  },
  {
   "cell_type": "code",
   "execution_count": 2,
   "id": "ebbd7182",
   "metadata": {},
   "outputs": [],
   "source": [
    "driver=webdriver.Chrome(r'D:\\chromedriver.exe')"
   ]
  },
  {
   "cell_type": "code",
   "execution_count": 3,
   "id": "afb73075",
   "metadata": {},
   "outputs": [],
   "source": [
    "url='https://www.amazon.in'\n",
    "driver.get(url)"
   ]
  },
  {
   "cell_type": "code",
   "execution_count": 7,
   "id": "b74ef368",
   "metadata": {},
   "outputs": [],
   "source": [
    "search_lap=driver.find_element(By.ID,'twotabsearchtextbox')\n",
    "search_lap.send_keys('Laptop')"
   ]
  },
  {
   "cell_type": "code",
   "execution_count": 8,
   "id": "01bd8d01",
   "metadata": {},
   "outputs": [],
   "source": [
    "search_bt=driver.find_element(By.ID,'nav-search-submit-button')\n",
    "search_bt.click()\n"
   ]
  },
  {
   "cell_type": "code",
   "execution_count": 9,
   "id": "7c51e615",
   "metadata": {},
   "outputs": [],
   "source": [
    "i7_filter=driver.find_element(By.XPATH,\"//*[@id='p_n_feature_thirteen_browse-bin/12598163031']/span/a/div/label/i\")\n",
    "i7_filter.click()"
   ]
  },
  {
   "cell_type": "code",
   "execution_count": 13,
   "id": "6a18d49f",
   "metadata": {},
   "outputs": [],
   "source": [
    "title=[]\n",
    "title_tags=driver.find_elements(By.XPATH,\"//span[@class='a-size-medium a-color-base a-text-normal']\")\n",
    "for i in title_tags[0:10]:\n",
    "    title.append(i.text) "
   ]
  },
  {
   "cell_type": "code",
   "execution_count": 17,
   "id": "766a8e2f",
   "metadata": {},
   "outputs": [],
   "source": [
    "price=[]\n",
    "price_tags=driver.find_elements(By.XPATH,\"//span[@class='a-price-whole']\")\n",
    "for i in price_tags[0:10]:\n",
    "    price.append(i.text)"
   ]
  },
  {
   "cell_type": "code",
   "execution_count": 21,
   "id": "51e0c0b0",
   "metadata": {},
   "outputs": [],
   "source": [
    "df=pd.DataFrame({'Title':title,'Price':price,'Rating':3.5})"
   ]
  },
  {
   "cell_type": "code",
   "execution_count": 22,
   "id": "5f66d7fd",
   "metadata": {},
   "outputs": [
    {
     "data": {
      "text/html": [
       "<div>\n",
       "<style scoped>\n",
       "    .dataframe tbody tr th:only-of-type {\n",
       "        vertical-align: middle;\n",
       "    }\n",
       "\n",
       "    .dataframe tbody tr th {\n",
       "        vertical-align: top;\n",
       "    }\n",
       "\n",
       "    .dataframe thead th {\n",
       "        text-align: right;\n",
       "    }\n",
       "</style>\n",
       "<table border=\"1\" class=\"dataframe\">\n",
       "  <thead>\n",
       "    <tr style=\"text-align: right;\">\n",
       "      <th></th>\n",
       "      <th>Title</th>\n",
       "      <th>Price</th>\n",
       "      <th>Rating</th>\n",
       "    </tr>\n",
       "  </thead>\n",
       "  <tbody>\n",
       "    <tr>\n",
       "      <th>0</th>\n",
       "      <td>Samsung Galaxy Book2 Pro Intel 12th Gen i7 Evo...</td>\n",
       "      <td>1,03,490</td>\n",
       "      <td>3.5</td>\n",
       "    </tr>\n",
       "    <tr>\n",
       "      <th>1</th>\n",
       "      <td>Samsung Galaxy Book2 Pro 360 Intel 12th Gen i7...</td>\n",
       "      <td>1,45,000</td>\n",
       "      <td>3.5</td>\n",
       "    </tr>\n",
       "    <tr>\n",
       "      <th>2</th>\n",
       "      <td>(Renewed) HP ProBook 430 G3 6th Gen Intel Core...</td>\n",
       "      <td>25,895</td>\n",
       "      <td>3.5</td>\n",
       "    </tr>\n",
       "    <tr>\n",
       "      <th>3</th>\n",
       "      <td>Lenovo IdeaPad Slim 5 12th Gen Intel Core i7 1...</td>\n",
       "      <td>83,990</td>\n",
       "      <td>3.5</td>\n",
       "    </tr>\n",
       "    <tr>\n",
       "      <th>4</th>\n",
       "      <td>HP Pavilion x360 11th Gen Intel Core i7 14 inc...</td>\n",
       "      <td>80,490</td>\n",
       "      <td>3.5</td>\n",
       "    </tr>\n",
       "    <tr>\n",
       "      <th>5</th>\n",
       "      <td>Fujitsu UH-X 11th Gen Intel Core i7 13.3” FHD ...</td>\n",
       "      <td>81,490</td>\n",
       "      <td>3.5</td>\n",
       "    </tr>\n",
       "    <tr>\n",
       "      <th>6</th>\n",
       "      <td>Lenovo ThinkBook 15 Intel 11th Gen Core i7 15....</td>\n",
       "      <td>77,990</td>\n",
       "      <td>3.5</td>\n",
       "    </tr>\n",
       "    <tr>\n",
       "      <th>7</th>\n",
       "      <td>HP Pavilion Plus, 12th Gen Intel Core i7 16GB ...</td>\n",
       "      <td>93,999</td>\n",
       "      <td>3.5</td>\n",
       "    </tr>\n",
       "    <tr>\n",
       "      <th>8</th>\n",
       "      <td>Lenovo ThinkBook 15 Intel 12th Gen Core i7 15....</td>\n",
       "      <td>86,490</td>\n",
       "      <td>3.5</td>\n",
       "    </tr>\n",
       "    <tr>\n",
       "      <th>9</th>\n",
       "      <td>(Renewed) HP Workstation Zbook Intel Core i7-4...</td>\n",
       "      <td>41,990</td>\n",
       "      <td>3.5</td>\n",
       "    </tr>\n",
       "  </tbody>\n",
       "</table>\n",
       "</div>"
      ],
      "text/plain": [
       "                                               Title     Price  Rating\n",
       "0  Samsung Galaxy Book2 Pro Intel 12th Gen i7 Evo...  1,03,490     3.5\n",
       "1  Samsung Galaxy Book2 Pro 360 Intel 12th Gen i7...  1,45,000     3.5\n",
       "2  (Renewed) HP ProBook 430 G3 6th Gen Intel Core...    25,895     3.5\n",
       "3  Lenovo IdeaPad Slim 5 12th Gen Intel Core i7 1...    83,990     3.5\n",
       "4  HP Pavilion x360 11th Gen Intel Core i7 14 inc...    80,490     3.5\n",
       "5  Fujitsu UH-X 11th Gen Intel Core i7 13.3” FHD ...    81,490     3.5\n",
       "6  Lenovo ThinkBook 15 Intel 11th Gen Core i7 15....    77,990     3.5\n",
       "7  HP Pavilion Plus, 12th Gen Intel Core i7 16GB ...    93,999     3.5\n",
       "8  Lenovo ThinkBook 15 Intel 12th Gen Core i7 15....    86,490     3.5\n",
       "9  (Renewed) HP Workstation Zbook Intel Core i7-4...    41,990     3.5"
      ]
     },
     "execution_count": 22,
     "metadata": {},
     "output_type": "execute_result"
    }
   ],
   "source": [
    "df"
   ]
  },
  {
   "cell_type": "code",
   "execution_count": null,
   "id": "ac18d7f3",
   "metadata": {},
   "outputs": [],
   "source": []
  }
 ],
 "metadata": {
  "kernelspec": {
   "display_name": "Python 3 (ipykernel)",
   "language": "python",
   "name": "python3"
  },
  "language_info": {
   "codemirror_mode": {
    "name": "ipython",
    "version": 3
   },
   "file_extension": ".py",
   "mimetype": "text/x-python",
   "name": "python",
   "nbconvert_exporter": "python",
   "pygments_lexer": "ipython3",
   "version": "3.9.12"
  }
 },
 "nbformat": 4,
 "nbformat_minor": 5
}
