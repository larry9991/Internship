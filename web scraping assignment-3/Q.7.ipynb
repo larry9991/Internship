{
 "cells": [
  {
   "cell_type": "code",
   "execution_count": null,
   "id": "a02f1089",
   "metadata": {},
   "outputs": [],
   "source": [
    "import numpy as np\n",
    "import pandas as pd\n",
    "import selenium\n",
    "from selenium import webdriver\n",
    "from selenium.webdriver.common.by import By\n",
    "import warnings\n",
    "warnings.filterwarnings ('ignore')\n",
    "import time\n"
   ]
  },
  {
   "cell_type": "code",
   "execution_count": 6,
   "id": "8c0b38b4",
   "metadata": {},
   "outputs": [],
   "source": [
    "driver=webdriver.Chrome(r'D:\\chromedriver.exe')"
   ]
  },
  {
   "cell_type": "code",
   "execution_count": 7,
   "id": "913716f4",
   "metadata": {},
   "outputs": [],
   "source": [
    "url='https://www.digit.in/'\n",
    "driver.get(url)"
   ]
  },
  {
   "cell_type": "code",
   "execution_count": 8,
   "id": "65eacc31",
   "metadata": {},
   "outputs": [],
   "source": [
    "search_item=driver.find_element(By.XPATH,'/html/body/div[3]/div/div[2]/div[2]/div[4]/ul/li[9]/a')\n",
    "search_item.click()"
   ]
  },
  {
   "cell_type": "code",
   "execution_count": 43,
   "id": "9d194b9d",
   "metadata": {},
   "outputs": [],
   "source": [
    "Brand=[]\n",
    "brand_tags=driver.find_elements(By.CLASS_NAME,\"TopNumbeHeading\")\n",
    "for i in brand_tags[0:10]:\n",
    "    Brand.append(i.text)"
   ]
  },
  {
   "cell_type": "code",
   "execution_count": 44,
   "id": "7f4c0ef3",
   "metadata": {},
   "outputs": [
    {
     "data": {
      "text/plain": [
       "['1.\\nMSI Titan GT77-12UHS',\n",
       " '2.\\nAlienware X17 R2',\n",
       " '3.\\nAcer Predator Triton 500 SE PT516-52s',\n",
       " '4.\\nOmen By HP (16-B1371TX)',\n",
       " '5.\\nAcer Predator Helios 300 AN515-45',\n",
       " '6.\\nMSI Delta 15 (A5EFK-083IN)',\n",
       " '7.\\nOmen By HP (16-C0141AX)',\n",
       " '8.\\nLenovo Legion 5i Pro (82RF00MGIN)',\n",
       " '9.\\nAlienware M15 R5 Ryzen Edition Icc-C780001win',\n",
       " '10.\\nLenovo Slim 7 Gen 6 (82K8002JIN)']"
      ]
     },
     "execution_count": 44,
     "metadata": {},
     "output_type": "execute_result"
    }
   ],
   "source": [
    "Brand"
   ]
  },
  {
   "cell_type": "code",
   "execution_count": 45,
   "id": "33057e73",
   "metadata": {},
   "outputs": [],
   "source": [
    "Specs=[]\n",
    "specs_tags=driver.find_elements(By.CLASS_NAME,\"Wrap-pop\")\n",
    "for i in specs_tags[0:10]:\n",
    "    Specs.append(i.text)"
   ]
  },
  {
   "cell_type": "code",
   "execution_count": 46,
   "id": "b0c0876a",
   "metadata": {},
   "outputs": [
    {
     "data": {
      "text/plain": [
       "['Windows 11 Home OS',\n",
       " '17.3\" (3840 x 2160) Display',\n",
       " '12th Gen Intel Core i9-12900HX | NA Processor',\n",
       " '2 TB SSD/64 GB DDR5 Memory',\n",
       " 'Windows 11 Home OS',\n",
       " '17.3\" (1920 x 1080) Display',\n",
       " '12th Gen Intel Core i9-12900H | 5 GHz Processor',\n",
       " '1 TB SSD/32 GB DDR5 Memory',\n",
       " 'Windows 11 OS',\n",
       " '16\" (2560 x 1600) Display']"
      ]
     },
     "execution_count": 46,
     "metadata": {},
     "output_type": "execute_result"
    }
   ],
   "source": [
    "Specs"
   ]
  },
  {
   "cell_type": "code",
   "execution_count": 47,
   "id": "7c5284fa",
   "metadata": {},
   "outputs": [],
   "source": [
    "df=pd.DataFrame({'BRANDS':Brand,'SPECS':Specs})"
   ]
  },
  {
   "cell_type": "code",
   "execution_count": 48,
   "id": "377c2489",
   "metadata": {},
   "outputs": [
    {
     "data": {
      "text/html": [
       "<div>\n",
       "<style scoped>\n",
       "    .dataframe tbody tr th:only-of-type {\n",
       "        vertical-align: middle;\n",
       "    }\n",
       "\n",
       "    .dataframe tbody tr th {\n",
       "        vertical-align: top;\n",
       "    }\n",
       "\n",
       "    .dataframe thead th {\n",
       "        text-align: right;\n",
       "    }\n",
       "</style>\n",
       "<table border=\"1\" class=\"dataframe\">\n",
       "  <thead>\n",
       "    <tr style=\"text-align: right;\">\n",
       "      <th></th>\n",
       "      <th>BRANDS</th>\n",
       "      <th>SPECS</th>\n",
       "    </tr>\n",
       "  </thead>\n",
       "  <tbody>\n",
       "    <tr>\n",
       "      <th>0</th>\n",
       "      <td>1.\\nMSI Titan GT77-12UHS</td>\n",
       "      <td>Windows 11 Home OS</td>\n",
       "    </tr>\n",
       "    <tr>\n",
       "      <th>1</th>\n",
       "      <td>2.\\nAlienware X17 R2</td>\n",
       "      <td>17.3\" (3840 x 2160) Display</td>\n",
       "    </tr>\n",
       "    <tr>\n",
       "      <th>2</th>\n",
       "      <td>3.\\nAcer Predator Triton 500 SE PT516-52s</td>\n",
       "      <td>12th Gen Intel Core i9-12900HX | NA Processor</td>\n",
       "    </tr>\n",
       "    <tr>\n",
       "      <th>3</th>\n",
       "      <td>4.\\nOmen By HP (16-B1371TX)</td>\n",
       "      <td>2 TB SSD/64 GB DDR5 Memory</td>\n",
       "    </tr>\n",
       "    <tr>\n",
       "      <th>4</th>\n",
       "      <td>5.\\nAcer Predator Helios 300 AN515-45</td>\n",
       "      <td>Windows 11 Home OS</td>\n",
       "    </tr>\n",
       "    <tr>\n",
       "      <th>5</th>\n",
       "      <td>6.\\nMSI Delta 15 (A5EFK-083IN)</td>\n",
       "      <td>17.3\" (1920 x 1080) Display</td>\n",
       "    </tr>\n",
       "    <tr>\n",
       "      <th>6</th>\n",
       "      <td>7.\\nOmen By HP (16-C0141AX)</td>\n",
       "      <td>12th Gen Intel Core i9-12900H | 5 GHz Processor</td>\n",
       "    </tr>\n",
       "    <tr>\n",
       "      <th>7</th>\n",
       "      <td>8.\\nLenovo Legion 5i Pro (82RF00MGIN)</td>\n",
       "      <td>1 TB SSD/32 GB DDR5 Memory</td>\n",
       "    </tr>\n",
       "    <tr>\n",
       "      <th>8</th>\n",
       "      <td>9.\\nAlienware M15 R5 Ryzen Edition Icc-C780001win</td>\n",
       "      <td>Windows 11 OS</td>\n",
       "    </tr>\n",
       "    <tr>\n",
       "      <th>9</th>\n",
       "      <td>10.\\nLenovo Slim 7 Gen 6 (82K8002JIN)</td>\n",
       "      <td>16\" (2560 x 1600) Display</td>\n",
       "    </tr>\n",
       "  </tbody>\n",
       "</table>\n",
       "</div>"
      ],
      "text/plain": [
       "                                              BRANDS  \\\n",
       "0                           1.\\nMSI Titan GT77-12UHS   \n",
       "1                               2.\\nAlienware X17 R2   \n",
       "2          3.\\nAcer Predator Triton 500 SE PT516-52s   \n",
       "3                        4.\\nOmen By HP (16-B1371TX)   \n",
       "4              5.\\nAcer Predator Helios 300 AN515-45   \n",
       "5                     6.\\nMSI Delta 15 (A5EFK-083IN)   \n",
       "6                        7.\\nOmen By HP (16-C0141AX)   \n",
       "7              8.\\nLenovo Legion 5i Pro (82RF00MGIN)   \n",
       "8  9.\\nAlienware M15 R5 Ryzen Edition Icc-C780001win   \n",
       "9              10.\\nLenovo Slim 7 Gen 6 (82K8002JIN)   \n",
       "\n",
       "                                             SPECS  \n",
       "0                               Windows 11 Home OS  \n",
       "1                      17.3\" (3840 x 2160) Display  \n",
       "2    12th Gen Intel Core i9-12900HX | NA Processor  \n",
       "3                       2 TB SSD/64 GB DDR5 Memory  \n",
       "4                               Windows 11 Home OS  \n",
       "5                      17.3\" (1920 x 1080) Display  \n",
       "6  12th Gen Intel Core i9-12900H | 5 GHz Processor  \n",
       "7                       1 TB SSD/32 GB DDR5 Memory  \n",
       "8                                    Windows 11 OS  \n",
       "9                        16\" (2560 x 1600) Display  "
      ]
     },
     "execution_count": 48,
     "metadata": {},
     "output_type": "execute_result"
    }
   ],
   "source": [
    "df"
   ]
  },
  {
   "cell_type": "code",
   "execution_count": null,
   "id": "615c4a1b",
   "metadata": {},
   "outputs": [],
   "source": []
  }
 ],
 "metadata": {
  "kernelspec": {
   "display_name": "Python 3 (ipykernel)",
   "language": "python",
   "name": "python3"
  },
  "language_info": {
   "codemirror_mode": {
    "name": "ipython",
    "version": 3
   },
   "file_extension": ".py",
   "mimetype": "text/x-python",
   "name": "python",
   "nbconvert_exporter": "python",
   "pygments_lexer": "ipython3",
   "version": "3.9.12"
  }
 },
 "nbformat": 4,
 "nbformat_minor": 5
}
