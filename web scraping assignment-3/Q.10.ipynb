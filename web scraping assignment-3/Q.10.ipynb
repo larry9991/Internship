{
 "cells": [
  {
   "cell_type": "code",
   "execution_count": 1,
   "id": "e77b3118",
   "metadata": {},
   "outputs": [],
   "source": [
    "import numpy as np\n",
    "import pandas as pd\n",
    "import selenium\n",
    "from selenium import webdriver\n",
    "from selenium.webdriver.common.by import By\n",
    "import warnings\n",
    "warnings.filterwarnings ('ignore')\n",
    "import time\n"
   ]
  },
  {
   "cell_type": "code",
   "execution_count": 2,
   "id": "33a4839d",
   "metadata": {},
   "outputs": [],
   "source": [
    "driver=webdriver.Chrome(r'D:\\chromedriver.exe')"
   ]
  },
  {
   "cell_type": "code",
   "execution_count": 3,
   "id": "9a4c8a9b",
   "metadata": {},
   "outputs": [],
   "source": [
    "url='https://www.hostelworld.com/'\n",
    "driver.get(url)"
   ]
  },
  {
   "cell_type": "code",
   "execution_count": 4,
   "id": "1ef6f7ee",
   "metadata": {},
   "outputs": [],
   "source": [
    "search_item=driver.find_element(By.XPATH,'//*[@id=\"__layout\"]/div/div[2]/div[1]/div/div/div[1]/header/div/button[2]')\n",
    "search_item.click()"
   ]
  },
  {
   "cell_type": "code",
   "execution_count": 6,
   "id": "ece188de",
   "metadata": {},
   "outputs": [],
   "source": [
    "search_item2=driver.find_element(By.XPATH,'//*[@id=\"__layout\"]/div/div[2]/div[1]/div/div/div[1]/header/div[2]/div/div[2]/ul[2]/li[2]/a')\n",
    "search_item2.click()"
   ]
  },
  {
   "cell_type": "code",
   "execution_count": 8,
   "id": "d3bb6d49",
   "metadata": {},
   "outputs": [],
   "source": [
    "search_item3=driver.find_element(By.CLASS_NAME,\"search-input\")\n",
    "search_item3.send_keys('London')"
   ]
  },
  {
   "cell_type": "code",
   "execution_count": 9,
   "id": "3d3baa8d",
   "metadata": {},
   "outputs": [],
   "source": [
    "search_item4=driver.find_element(By.XPATH,'//*[@id=\"predicted-search-results\"]/li[2]/div')\n",
    "search_item4.click()"
   ]
  },
  {
   "cell_type": "code",
   "execution_count": 10,
   "id": "4041c50b",
   "metadata": {},
   "outputs": [],
   "source": [
    "search_item5=driver.find_element(By.XPATH,'//*[@id=\"__layout\"]/div/div/div/div[1]/div/div/div[5]/button')\n",
    "search_item5.click()"
   ]
  },
  {
   "cell_type": "code",
   "execution_count": 18,
   "id": "eed6b79d",
   "metadata": {},
   "outputs": [],
   "source": [
    "Name=[]\n",
    "name_tags=driver.find_elements(By.CLASS_NAME,\"title title-6\")\n",
    "for i in name_tags:\n",
    "    Name.append(i.text)\n",
    "  "
   ]
  },
  {
   "cell_type": "code",
   "execution_count": 26,
   "id": "5a07ed6c",
   "metadata": {},
   "outputs": [
    {
     "ename": "InvalidSelectorException",
     "evalue": "Message: invalid selector: An invalid or illegal selector was specified\n  (Session info: chrome=107.0.5304.107)\nStacktrace:\nBacktrace:\n\tOrdinal0 [0x0079ACD3+2075859]\n\tOrdinal0 [0x0072EE61+1633889]\n\tOrdinal0 [0x0062B7BD+571325]\n\tOrdinal0 [0x0062E374+582516]\n\tOrdinal0 [0x0062E225+582181]\n\tOrdinal0 [0x0062E4C0+582848]\n\tOrdinal0 [0x0065A9A2+764322]\n\tOrdinal0 [0x0065AE1B+765467]\n\tOrdinal0 [0x0068D12C+971052]\n\tOrdinal0 [0x00677364+881508]\n\tOrdinal0 [0x0068B56A+963946]\n\tOrdinal0 [0x00677136+880950]\n\tOrdinal0 [0x0064FEFD+720637]\n\tOrdinal0 [0x00650F3F+724799]\n\tGetHandleVerifier [0x00A4EED2+2769538]\n\tGetHandleVerifier [0x00A40D95+2711877]\n\tGetHandleVerifier [0x0082A03A+521194]\n\tGetHandleVerifier [0x00828DA0+516432]\n\tOrdinal0 [0x0073682C+1665068]\n\tOrdinal0 [0x0073B128+1683752]\n\tOrdinal0 [0x0073B215+1683989]\n\tOrdinal0 [0x00746484+1729668]\n\tBaseThreadInitThunk [0x7587FEF9+25]\n\tRtlGetAppContainerNamedObjectPath [0x77937BBE+286]\n\tRtlGetAppContainerNamedObjectPath [0x77937B8E+238]\n",
     "output_type": "error",
     "traceback": [
      "\u001b[1;31m---------------------------------------------------------------------------\u001b[0m",
      "\u001b[1;31mInvalidSelectorException\u001b[0m                  Traceback (most recent call last)",
      "Input \u001b[1;32mIn [26]\u001b[0m, in \u001b[0;36m<cell line: 2>\u001b[1;34m()\u001b[0m\n\u001b[0;32m      1\u001b[0m Distance\u001b[38;5;241m=\u001b[39m[]\n\u001b[1;32m----> 2\u001b[0m distance_tags\u001b[38;5;241m=\u001b[39m\u001b[43mdriver\u001b[49m\u001b[38;5;241;43m.\u001b[39;49m\u001b[43mfind_elements\u001b[49m\u001b[43m(\u001b[49m\u001b[43mBy\u001b[49m\u001b[38;5;241;43m.\u001b[39;49m\u001b[43mCLASS_NAME\u001b[49m\u001b[43m,\u001b[49m\u001b[38;5;124;43m\"\u001b[39;49m\u001b[38;5;124;43m//span[@class=\u001b[39;49m\u001b[38;5;124;43m'\u001b[39;49m\u001b[38;5;124;43mdescription\u001b[39;49m\u001b[38;5;124;43m'\u001b[39;49m\u001b[38;5;124;43m]\u001b[39;49m\u001b[38;5;124;43m\"\u001b[39;49m\u001b[43m)\u001b[49m\n\u001b[0;32m      3\u001b[0m \u001b[38;5;28;01mfor\u001b[39;00m i \u001b[38;5;129;01min\u001b[39;00m distance_tags:\n\u001b[0;32m      4\u001b[0m     Distance\u001b[38;5;241m.\u001b[39mappend(i\u001b[38;5;241m.\u001b[39mtext)\n",
      "File \u001b[1;32m~\\anaconda3\\lib\\site-packages\\selenium\\webdriver\\remote\\webdriver.py:889\u001b[0m, in \u001b[0;36mWebDriver.find_elements\u001b[1;34m(self, by, value)\u001b[0m\n\u001b[0;32m    885\u001b[0m     value \u001b[38;5;241m=\u001b[39m \u001b[38;5;124m'\u001b[39m\u001b[38;5;124m[name=\u001b[39m\u001b[38;5;124m\"\u001b[39m\u001b[38;5;132;01m%s\u001b[39;00m\u001b[38;5;124m\"\u001b[39m\u001b[38;5;124m]\u001b[39m\u001b[38;5;124m'\u001b[39m \u001b[38;5;241m%\u001b[39m value\n\u001b[0;32m    887\u001b[0m \u001b[38;5;66;03m# Return empty list if driver returns null\u001b[39;00m\n\u001b[0;32m    888\u001b[0m \u001b[38;5;66;03m# See https://github.com/SeleniumHQ/selenium/issues/4555\u001b[39;00m\n\u001b[1;32m--> 889\u001b[0m \u001b[38;5;28;01mreturn\u001b[39;00m \u001b[38;5;28;43mself\u001b[39;49m\u001b[38;5;241;43m.\u001b[39;49m\u001b[43mexecute\u001b[49m\u001b[43m(\u001b[49m\u001b[43mCommand\u001b[49m\u001b[38;5;241;43m.\u001b[39;49m\u001b[43mFIND_ELEMENTS\u001b[49m\u001b[43m,\u001b[49m\u001b[43m \u001b[49m\u001b[43m{\u001b[49m\n\u001b[0;32m    890\u001b[0m \u001b[43m    \u001b[49m\u001b[38;5;124;43m'\u001b[39;49m\u001b[38;5;124;43musing\u001b[39;49m\u001b[38;5;124;43m'\u001b[39;49m\u001b[43m:\u001b[49m\u001b[43m \u001b[49m\u001b[43mby\u001b[49m\u001b[43m,\u001b[49m\n\u001b[0;32m    891\u001b[0m \u001b[43m    \u001b[49m\u001b[38;5;124;43m'\u001b[39;49m\u001b[38;5;124;43mvalue\u001b[39;49m\u001b[38;5;124;43m'\u001b[39;49m\u001b[43m:\u001b[49m\u001b[43m \u001b[49m\u001b[43mvalue\u001b[49m\u001b[43m}\u001b[49m\u001b[43m)\u001b[49m[\u001b[38;5;124m'\u001b[39m\u001b[38;5;124mvalue\u001b[39m\u001b[38;5;124m'\u001b[39m] \u001b[38;5;129;01mor\u001b[39;00m []\n",
      "File \u001b[1;32m~\\anaconda3\\lib\\site-packages\\selenium\\webdriver\\remote\\webdriver.py:429\u001b[0m, in \u001b[0;36mWebDriver.execute\u001b[1;34m(self, driver_command, params)\u001b[0m\n\u001b[0;32m    427\u001b[0m response \u001b[38;5;241m=\u001b[39m \u001b[38;5;28mself\u001b[39m\u001b[38;5;241m.\u001b[39mcommand_executor\u001b[38;5;241m.\u001b[39mexecute(driver_command, params)\n\u001b[0;32m    428\u001b[0m \u001b[38;5;28;01mif\u001b[39;00m response:\n\u001b[1;32m--> 429\u001b[0m     \u001b[38;5;28;43mself\u001b[39;49m\u001b[38;5;241;43m.\u001b[39;49m\u001b[43merror_handler\u001b[49m\u001b[38;5;241;43m.\u001b[39;49m\u001b[43mcheck_response\u001b[49m\u001b[43m(\u001b[49m\u001b[43mresponse\u001b[49m\u001b[43m)\u001b[49m\n\u001b[0;32m    430\u001b[0m     response[\u001b[38;5;124m'\u001b[39m\u001b[38;5;124mvalue\u001b[39m\u001b[38;5;124m'\u001b[39m] \u001b[38;5;241m=\u001b[39m \u001b[38;5;28mself\u001b[39m\u001b[38;5;241m.\u001b[39m_unwrap_value(\n\u001b[0;32m    431\u001b[0m         response\u001b[38;5;241m.\u001b[39mget(\u001b[38;5;124m'\u001b[39m\u001b[38;5;124mvalue\u001b[39m\u001b[38;5;124m'\u001b[39m, \u001b[38;5;28;01mNone\u001b[39;00m))\n\u001b[0;32m    432\u001b[0m     \u001b[38;5;28;01mreturn\u001b[39;00m response\n",
      "File \u001b[1;32m~\\anaconda3\\lib\\site-packages\\selenium\\webdriver\\remote\\errorhandler.py:243\u001b[0m, in \u001b[0;36mErrorHandler.check_response\u001b[1;34m(self, response)\u001b[0m\n\u001b[0;32m    241\u001b[0m         alert_text \u001b[38;5;241m=\u001b[39m value[\u001b[38;5;124m'\u001b[39m\u001b[38;5;124malert\u001b[39m\u001b[38;5;124m'\u001b[39m]\u001b[38;5;241m.\u001b[39mget(\u001b[38;5;124m'\u001b[39m\u001b[38;5;124mtext\u001b[39m\u001b[38;5;124m'\u001b[39m)\n\u001b[0;32m    242\u001b[0m     \u001b[38;5;28;01mraise\u001b[39;00m exception_class(message, screen, stacktrace, alert_text)  \u001b[38;5;66;03m# type: ignore[call-arg]  # mypy is not smart enough here\u001b[39;00m\n\u001b[1;32m--> 243\u001b[0m \u001b[38;5;28;01mraise\u001b[39;00m exception_class(message, screen, stacktrace)\n",
      "\u001b[1;31mInvalidSelectorException\u001b[0m: Message: invalid selector: An invalid or illegal selector was specified\n  (Session info: chrome=107.0.5304.107)\nStacktrace:\nBacktrace:\n\tOrdinal0 [0x0079ACD3+2075859]\n\tOrdinal0 [0x0072EE61+1633889]\n\tOrdinal0 [0x0062B7BD+571325]\n\tOrdinal0 [0x0062E374+582516]\n\tOrdinal0 [0x0062E225+582181]\n\tOrdinal0 [0x0062E4C0+582848]\n\tOrdinal0 [0x0065A9A2+764322]\n\tOrdinal0 [0x0065AE1B+765467]\n\tOrdinal0 [0x0068D12C+971052]\n\tOrdinal0 [0x00677364+881508]\n\tOrdinal0 [0x0068B56A+963946]\n\tOrdinal0 [0x00677136+880950]\n\tOrdinal0 [0x0064FEFD+720637]\n\tOrdinal0 [0x00650F3F+724799]\n\tGetHandleVerifier [0x00A4EED2+2769538]\n\tGetHandleVerifier [0x00A40D95+2711877]\n\tGetHandleVerifier [0x0082A03A+521194]\n\tGetHandleVerifier [0x00828DA0+516432]\n\tOrdinal0 [0x0073682C+1665068]\n\tOrdinal0 [0x0073B128+1683752]\n\tOrdinal0 [0x0073B215+1683989]\n\tOrdinal0 [0x00746484+1729668]\n\tBaseThreadInitThunk [0x7587FEF9+25]\n\tRtlGetAppContainerNamedObjectPath [0x77937BBE+286]\n\tRtlGetAppContainerNamedObjectPath [0x77937B8E+238]\n"
     ]
    }
   ],
   "source": [
    "Distance=[]\n",
    "distance_tags=driver.find_elements(By.CLASS_NAME,\"//span[@class='description']\")\n",
    "for i in distance_tags:\n",
    "    Distance.append(i.text)"
   ]
  },
  {
   "cell_type": "code",
   "execution_count": 29,
   "id": "ddd7b8da",
   "metadata": {},
   "outputs": [],
   "source": [
    "Ratings=[]\n",
    "ratings_tags=driver.find_elements(By.CLASS_NAME,\"score orange big\")\n",
    "for i in ratings_tags[0:10]:\n",
    "    Ratings.append(i.text)\n",
    "  "
   ]
  },
  {
   "cell_type": "code",
   "execution_count": 31,
   "id": "0bfaf5f6",
   "metadata": {},
   "outputs": [
    {
     "data": {
      "text/plain": [
       "[]"
      ]
     },
     "execution_count": 31,
     "metadata": {},
     "output_type": "execute_result"
    }
   ],
   "source": [
    "Ratings"
   ]
  },
  {
   "cell_type": "code",
   "execution_count": 46,
   "id": "8fb8bf11",
   "metadata": {},
   "outputs": [],
   "source": [
    "Totalreviews=[]\n",
    "totalreviews_tags=driver.find_elements(By.XPATH,\"//div[@class='reviews']\")\n",
    "for i in ratings_tags:\n",
    "    Totalreviews.append(i.text)\n",
    "  "
   ]
  },
  {
   "cell_type": "code",
   "execution_count": 44,
   "id": "2ddea698",
   "metadata": {},
   "outputs": [],
   "source": [
    "dormsfromprice=[]\n",
    "dormsfromprice_tags=driver.find_elements(By.XPATH,\"//div[@class='price title-5']\")\n",
    "for i in dormsfromprice_tags[0:10]:\n",
    "    dormsfromprice.append(i.text)\n",
    "  "
   ]
  },
  {
   "cell_type": "code",
   "execution_count": 47,
   "id": "43faf0b0",
   "metadata": {},
   "outputs": [
    {
     "data": {
      "text/plain": [
       "[]"
      ]
     },
     "execution_count": 47,
     "metadata": {},
     "output_type": "execute_result"
    }
   ],
   "source": [
    "Totalreviews"
   ]
  },
  {
   "cell_type": "code",
   "execution_count": null,
   "id": "5f4a6ba4",
   "metadata": {},
   "outputs": [],
   "source": []
  }
 ],
 "metadata": {
  "kernelspec": {
   "display_name": "Python 3 (ipykernel)",
   "language": "python",
   "name": "python3"
  },
  "language_info": {
   "codemirror_mode": {
    "name": "ipython",
    "version": 3
   },
   "file_extension": ".py",
   "mimetype": "text/x-python",
   "name": "python",
   "nbconvert_exporter": "python",
   "pygments_lexer": "ipython3",
   "version": "3.9.12"
  }
 },
 "nbformat": 4,
 "nbformat_minor": 5
}
