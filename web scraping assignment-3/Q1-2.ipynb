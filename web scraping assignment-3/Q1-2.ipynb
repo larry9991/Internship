{
 "cells": [
  {
   "cell_type": "code",
   "execution_count": 1,
   "id": "820ac65b",
   "metadata": {},
   "outputs": [],
   "source": [
    "import numpy as np\n",
    "import pandas as pd\n",
    "import selenium\n",
    "from selenium import webdriver\n",
    "from selenium.webdriver.common.by import By\n",
    "import warnings\n",
    "warnings.filterwarnings ('ignore')\n",
    "import time\n"
   ]
  },
  {
   "cell_type": "code",
   "execution_count": 2,
   "id": "f36d82e9",
   "metadata": {},
   "outputs": [],
   "source": [
    "driver=webdriver.Chrome(r'D:\\chromedriver.exe')\n",
    "url='https://www.amazon.in/'\n",
    "driver.get(url)"
   ]
  },
  {
   "cell_type": "code",
   "execution_count": 3,
   "id": "741cc270",
   "metadata": {},
   "outputs": [],
   "source": [
    "search_item=driver.find_element(By.ID,'twotabsearchtextbox')\n",
    "search_item.send_keys('guitar')"
   ]
  },
  {
   "cell_type": "code",
   "execution_count": 4,
   "id": "8d068540",
   "metadata": {},
   "outputs": [],
   "source": [
    "\n",
    "search_bt=driver.find_element(By.CLASS_NAME,'nav-right')\n",
    "search_bt.click()"
   ]
  },
  {
   "cell_type": "code",
   "execution_count": 7,
   "id": "fb3dd301",
   "metadata": {},
   "outputs": [],
   "source": [
    "brand=[]\n",
    "start=0\n",
    "end=2\n",
    "for page in range(start,end):\n",
    "    brand_tags=driver.find_elements(By.XPATH,'h2[@class=\"a-size-mini a-spacing-none a-color-base s-line-clamp-4\"]')\n",
    "    for i in brand_tags:\n",
    "        brand.append(i.text)\n",
    "    next_button=driver.find_element(By.XPATH,\"//a[@class='s-pagination-item s-pagination-next s-pagination-button s-pagination-separator']\")    \n",
    "    next_button.click()\n",
    "    time.sleep(3)"
   ]
  },
  {
   "cell_type": "code",
   "execution_count": 8,
   "id": "ec763e7b",
   "metadata": {},
   "outputs": [
    {
     "data": {
      "text/plain": [
       "[]"
      ]
     },
     "execution_count": 8,
     "metadata": {},
     "output_type": "execute_result"
    }
   ],
   "source": [
    "brand"
   ]
  },
  {
   "cell_type": "code",
   "execution_count": 9,
   "id": "d2515164",
   "metadata": {},
   "outputs": [],
   "source": [
    "Price=[]\n",
    "start=0\n",
    "end=2\n",
    "for page in range(start,end):\n",
    "    price_tags=driver.find_elements(By.XPATH,'//span[@class=\"a-price-whole\"]')\n",
    "    for i in price_tags:\n",
    "        Price.append(i.text)\n",
    "    next_button=driver.find_element(By.XPATH,\"//a[@class='s-pagination-item s-pagination-next s-pagination-button s-pagination-separator']\")    \n",
    "    next_button.click()\n",
    "    time.sleep(3)"
   ]
  },
  {
   "cell_type": "code",
   "execution_count": 10,
   "id": "5819d08c",
   "metadata": {
    "collapsed": true
   },
   "outputs": [
    {
     "data": {
      "text/plain": [
       "['6,499',\n",
       " '9,999',\n",
       " '5,199',\n",
       " '5,199',\n",
       " '9,999',\n",
       " '6,930',\n",
       " '7,499',\n",
       " '2,399',\n",
       " '2,299',\n",
       " '2,399',\n",
       " '6,999',\n",
       " '2,091',\n",
       " '7,490',\n",
       " '2,649',\n",
       " '2,399',\n",
       " '2,549',\n",
       " '2,299',\n",
       " '2,688',\n",
       " '12,807',\n",
       " '9,590',\n",
       " '',\n",
       " '2,099',\n",
       " '2,639',\n",
       " '2,639',\n",
       " '4,480',\n",
       " '2,259',\n",
       " '5,199',\n",
       " '7,999',\n",
       " '1,399',\n",
       " '419',\n",
       " '895',\n",
       " '9,100',\n",
       " '6,190',\n",
       " '2,099',\n",
       " '7,727',\n",
       " '7,385',\n",
       " '2,639',\n",
       " '12,499',\n",
       " '3,017',\n",
       " '90',\n",
       " '429',\n",
       " '5,610',\n",
       " '2,639',\n",
       " '899',\n",
       " '4,221',\n",
       " '13,700',\n",
       " '499',\n",
       " '4,997',\n",
       " '6,990',\n",
       " '2,695',\n",
       " '5,219',\n",
       " '459',\n",
       " '10,999',\n",
       " '6,489',\n",
       " '12,490',\n",
       " '3,603',\n",
       " '3,114',\n",
       " '9,449',\n",
       " '5,981',\n",
       " '899',\n",
       " '3,426',\n",
       " '2,399',\n",
       " '5,999',\n",
       " '299',\n",
       " '10,890',\n",
       " '1,099',\n",
       " '499',\n",
       " '',\n",
       " '',\n",
       " '',\n",
       " '',\n",
       " '',\n",
       " '',\n",
       " '6,499',\n",
       " '9,999',\n",
       " '5,199',\n",
       " '7,999',\n",
       " '4,465',\n",
       " '1,399',\n",
       " '439',\n",
       " '2,399',\n",
       " '6,781',\n",
       " '10,990',\n",
       " '6,999',\n",
       " '3,799',\n",
       " '5,339',\n",
       " '21,039',\n",
       " '3,241',\n",
       " '5,686',\n",
       " '480',\n",
       " '6,216',\n",
       " '12,100',\n",
       " '2,499',\n",
       " '4,518',\n",
       " '3,339',\n",
       " '2,390',\n",
       " '19,008',\n",
       " '299',\n",
       " '1,099',\n",
       " '4,498',\n",
       " '4,498',\n",
       " '3,499',\n",
       " '3,812',\n",
       " '28,779',\n",
       " '5,033',\n",
       " '18,900',\n",
       " '9,490',\n",
       " '10,449',\n",
       " '13,800',\n",
       " '2,999',\n",
       " '25,320',\n",
       " '66,590',\n",
       " '8,890',\n",
       " '5,999',\n",
       " '13,999',\n",
       " '5,941',\n",
       " '4,750',\n",
       " '3,390',\n",
       " '12,289',\n",
       " '16,386',\n",
       " '12,807',\n",
       " '9,999',\n",
       " '9,995',\n",
       " '6,203',\n",
       " '4,672',\n",
       " '11,999',\n",
       " '4,882',\n",
       " '6,422',\n",
       " '12,978',\n",
       " '17,699',\n",
       " '7,990',\n",
       " '4,899',\n",
       " '20,706',\n",
       " '249',\n",
       " '999',\n",
       " '249',\n",
       " '480']"
      ]
     },
     "execution_count": 10,
     "metadata": {},
     "output_type": "execute_result"
    }
   ],
   "source": [
    "Price"
   ]
  },
  {
   "cell_type": "code",
   "execution_count": null,
   "id": "1025eb50",
   "metadata": {},
   "outputs": [],
   "source": [
    "Price=[]\n",
    "start=0\n",
    "end=2\n",
    "for page in range(start,end):\n",
    "    price_tags=driver.find_elements(By.XPATH,'//span[@class=\"a-price-whole\"]')\n",
    "    for i in price_tags:\n",
    "        Price.append(i.text)\n",
    "    next_button=driver.find_element(By.XPATH,\"//a[@class='s-pagination-item s-pagination-next s-pagination-button s-pagination-separator']\")    \n",
    "    next_button.click()\n",
    "    time.sleep(3)"
   ]
  }
 ],
 "metadata": {
  "kernelspec": {
   "display_name": "Python 3 (ipykernel)",
   "language": "python",
   "name": "python3"
  },
  "language_info": {
   "codemirror_mode": {
    "name": "ipython",
    "version": 3
   },
   "file_extension": ".py",
   "mimetype": "text/x-python",
   "name": "python",
   "nbconvert_exporter": "python",
   "pygments_lexer": "ipython3",
   "version": "3.9.12"
  }
 },
 "nbformat": 4,
 "nbformat_minor": 5
}
