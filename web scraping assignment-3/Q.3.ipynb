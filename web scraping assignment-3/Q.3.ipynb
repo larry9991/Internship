{
 "cells": [
  {
   "cell_type": "code",
   "execution_count": 6,
   "id": "79f513e0",
   "metadata": {},
   "outputs": [],
   "source": [
    "import numpy as np\n",
    "import pandas as pd\n",
    "import selenium\n",
    "from selenium import webdriver\n",
    "from selenium.webdriver.common.by import By\n",
    "import warnings\n",
    "warnings.filterwarnings ('ignore')\n",
    "import time\n"
   ]
  },
  {
   "cell_type": "code",
   "execution_count": 7,
   "id": "b02f8793",
   "metadata": {},
   "outputs": [],
   "source": [
    "driver=webdriver.Chrome(r'D:\\chromedriver.exe')"
   ]
  },
  {
   "cell_type": "code",
   "execution_count": 8,
   "id": "d8875984",
   "metadata": {},
   "outputs": [],
   "source": [
    "url='https://images.google.com/'\n",
    "driver.get(url)"
   ]
  },
  {
   "cell_type": "code",
   "execution_count": 9,
   "id": "100d9de6",
   "metadata": {},
   "outputs": [],
   "source": [
    "search_job=driver.find_element(By.XPATH,'/html/body/div[1]/div[3]/form/div[1]/div[1]/div[1]/div/div[2]/input')\n",
    "search_job.send_keys('fruits')"
   ]
  },
  {
   "cell_type": "code",
   "execution_count": 14,
   "id": "295d5c86",
   "metadata": {},
   "outputs": [],
   "source": [
    "search_bt=driver.find_element(By.XPATH,'//div[@class=\"zgAlFc\"]')\n",
    "search_bt.click()\n"
   ]
  },
  {
   "cell_type": "code",
   "execution_count": 24,
   "id": "f8e2d35c",
   "metadata": {},
   "outputs": [
    {
     "name": "stdout",
     "output_type": "stream",
     "text": [
      "https://www.goodhousekeeping.com/health/diet-nutrition/g28511617/healthiest-fruits/\n",
      "https://www.healthyeating.org/nutrition-topics/general/food-groups/fruits\n",
      "https://in.pinterest.com/pin/649081365039047796/\n",
      "https://onlymyenglish.com/fruits-name-english/\n",
      "https://www.amazon.in/Fruits-All-One-Dreamland-Publications/dp/8184510594\n",
      "https://www.freepik.com/free-photos-vectors/fruits-drawing\n",
      "https://byjus.com/english/fruits-names/\n",
      "https://www.vocabulary.cl/english/fruit.htm\n",
      "https://www.freepik.com/free-photos-vectors/fruit-illustration\n",
      "https://www.vectorstock.com/royalty-free-vector/different-of-fruits-realistic-vector-21566878\n"
     ]
    }
   ],
   "source": [
    "urll=driver.find_elements(By.XPATH,'//a[@class=\"VFACy kGQAp sMi44c d0NI4c lNHeqe WGvvNb\"]')\n",
    "for i in urll[0:10]:\n",
    "    \n",
    "    print(i.get_attribute('href'))\n",
    "    "
   ]
  },
  {
   "cell_type": "code",
   "execution_count": 29,
   "id": "5b1248b4",
   "metadata": {},
   "outputs": [],
   "source": [
    "search_job=driver.find_element(By.XPATH,'//*[@id=\"REsRA\"]')\n",
    "search_job.send_keys('cars')\n",
    "\n"
   ]
  },
  {
   "cell_type": "code",
   "execution_count": 30,
   "id": "1010db12",
   "metadata": {},
   "outputs": [],
   "source": [
    "search_bt=driver.find_element(By.XPATH,'//div[@class=\"XZ5MVe\"]')\n",
    "search_bt.click()"
   ]
  },
  {
   "cell_type": "code",
   "execution_count": 31,
   "id": "1327d8ee",
   "metadata": {},
   "outputs": [
    {
     "name": "stdout",
     "output_type": "stream",
     "text": [
      "https://www.google.com/url?sa=i&url=https%3A%2F%2Fwww.forbes.com%2Fsites%2Fjimgorzelany%2F2019%2F07%2F23%2Fhere-are-the-coolest-new-cars-for-2020%2F&psig=AOvVaw1uEoyGGaDQiyAh2vTIBkDE&ust=1669394049421000&source=images&cd=vfe&ved=2ahUKEwiP3tvLn8f7AhUsiNgFHenXB9IQr4kDegUIARDcAQ\n",
      "https://www.cardekho.com/cars/Bentley\n",
      "https://www.cardekho.com/cars/MG\n",
      "https://www.cartrade.com/new-cars/\n",
      "https://www.forbes.com/sites/kbrauer/2020/10/26/these-are-the-25-fastest-cars-in-the-world-in-2020/\n",
      "https://www.youtube.com/watch?v=dip_8dmrcaU\n",
      "https://www.carwale.com/volvo-cars/\n",
      "https://www.roadandtrack.com/car-culture/buying-maintenance/g6830/best-luxury-cars-brands/\n",
      "https://www.autocarindia.com/cars/porsche\n",
      "https://www.carwale.com/new/best-hatchbacks/\n"
     ]
    }
   ],
   "source": [
    "url2=driver.find_elements(By.XPATH,'//a[@class=\"VFACy kGQAp sMi44c d0NI4c lNHeqe WGvvNb\"]')\n",
    "for i in url2[0:10]:\n",
    "    \n",
    "    print(i.get_attribute('href'))\n",
    "    "
   ]
  },
  {
   "cell_type": "code",
   "execution_count": 32,
   "id": "9376826e",
   "metadata": {},
   "outputs": [],
   "source": [
    "search_job=driver.find_element(By.XPATH,'//*[@id=\"REsRA\"]')\n",
    "search_job.send_keys('machine learning')\n",
    "\n"
   ]
  },
  {
   "cell_type": "code",
   "execution_count": 33,
   "id": "3e4d00aa",
   "metadata": {},
   "outputs": [],
   "source": [
    "search_bt=driver.find_element(By.XPATH,'//div[@class=\"XZ5MVe\"]')\n",
    "search_bt.click()"
   ]
  },
  {
   "cell_type": "code",
   "execution_count": 38,
   "id": "59e1a214",
   "metadata": {},
   "outputs": [
    {
     "name": "stdout",
     "output_type": "stream",
     "text": [
      "https://www.google.com/url?sa=i&url=https%3A%2F%2Fwww.fsm.ac.in%2Fblog%2Fan-introduction-to-machine-learning-its-importance-types-and-applications%2F&psig=AOvVaw23QpOp8ftKBrLNdX0WYfk9&ust=1669394258130000&source=images&cd=vfe&ved=2ahUKEwi2pJ6voMf7AhXE33MBHcZlBikQr4kDegUIARDdAQ\n",
      "https://www.wordstream.com/blog/ws/2017/07/28/machine-learning-applications\n",
      "https://www.geeksforgeeks.org/machine-learning/\n",
      "https://www.totalphase.com/blog/2022/11/machine-learning-and-a-i-examples-pros-and-cons/\n",
      "https://www.britannica.com/technology/machine-learning\n",
      "https://towardsdatascience.com/introduction-to-machine-learning-for-beginners-eed6024fdb08\n",
      "https://www.javatpoint.com/machine-learning\n",
      "https://www.forbes.com/sites/tomtaulli/2019/03/02/what-you-need-to-know-about-machine-learning/\n",
      "https://www.atriainnovation.com/en/machine-learning-in-industry/\n",
      "https://levity.ai/blog/difference-machine-learning-deep-learning\n"
     ]
    }
   ],
   "source": [
    "url3=driver.find_elements(By.XPATH,'//a[@class=\"VFACy kGQAp sMi44c d0NI4c lNHeqe WGvvNb\"]')\n",
    "for i in url3[0:10]:\n",
    "    \n",
    "    print(i.get_attribute('href'))\n",
    "    "
   ]
  },
  {
   "cell_type": "code",
   "execution_count": 39,
   "id": "5287e884",
   "metadata": {},
   "outputs": [],
   "source": [
    "search_job=driver.find_element(By.XPATH,'//*[@id=\"REsRA\"]')\n",
    "search_job.send_keys('guitar')\n",
    "\n"
   ]
  },
  {
   "cell_type": "code",
   "execution_count": 40,
   "id": "9479648a",
   "metadata": {},
   "outputs": [],
   "source": [
    "search_bt=driver.find_element(By.XPATH,'//div[@class=\"XZ5MVe\"]')\n",
    "search_bt.click()"
   ]
  },
  {
   "cell_type": "code",
   "execution_count": 41,
   "id": "2bf0bbcd",
   "metadata": {},
   "outputs": [
    {
     "name": "stdout",
     "output_type": "stream",
     "text": [
      "https://www.google.com/url?sa=i&url=https%3A%2F%2Fen.wikipedia.org%2Fwiki%2FGuitar&psig=AOvVaw1DOXN0rlJ-9JhCFee_9Ta-&ust=1669394480077000&source=images&cd=vfe&ved=2ahUKEwi89IiZocf7AhVQjNgFHdTnDvQQr4kDegUIARDcAQ\n",
      "https://www.amazon.in/Kadence-Frontier-Acoustic-Guitar-Strings/dp/B078GTJP5Y\n",
      "https://www.amazon.in/Yamaha-F310-6-Strings-Acoustic-Natural/dp/B000RVYW7E\n",
      "https://www.johnsmusic.in/products/richtone-acoustic-guitar-40-inch\n",
      "https://yamahamusicstore.in/f280-natural-acoustic-guitar.html\n",
      "https://www.amazon.in/Yamaha-PAC012-Electric-Guitar-Metallic/dp/B000MLY7XS\n",
      "https://www.superprof.co.in/blog/different-guitar-types/\n",
      "https://www.flipkart.com/signature-topaz-blue-acoustic-guitar-rosewood/p/itm85182e8c3e665\n",
      "https://www.amazon.in/Guitar-Accessories-Great-Beginners-Standar/dp/B01MPXTKB4\n",
      "https://www.amazon.in/Yamaha-FS100C-Acoustic-Guitars-Natural/dp/B00QKD79QE\n"
     ]
    }
   ],
   "source": [
    "url3=driver.find_elements(By.XPATH,'//a[@class=\"VFACy kGQAp sMi44c d0NI4c lNHeqe WGvvNb\"]')\n",
    "for i in url3[0:10]:\n",
    "    \n",
    "    print(i.get_attribute('href'))\n",
    "    "
   ]
  },
  {
   "cell_type": "code",
   "execution_count": 42,
   "id": "431e97d2",
   "metadata": {},
   "outputs": [],
   "source": [
    "search_job=driver.find_element(By.XPATH,'//*[@id=\"REsRA\"]')\n",
    "search_job.send_keys('cakes')\n",
    "\n"
   ]
  },
  {
   "cell_type": "code",
   "execution_count": 43,
   "id": "18ff7fee",
   "metadata": {},
   "outputs": [],
   "source": [
    "search_bt=driver.find_element(By.XPATH,'//div[@class=\"XZ5MVe\"]')\n",
    "search_bt.click()"
   ]
  },
  {
   "cell_type": "code",
   "execution_count": 44,
   "id": "b157de2e",
   "metadata": {},
   "outputs": [
    {
     "name": "stdout",
     "output_type": "stream",
     "text": [
      "https://www.fnp.com/cakes\n",
      "https://www.indiamart.com/proddetail/birthday-cakes-21214772397.html\n",
      "https://www.womansday.com/food-recipes/food-drinks/a25348945/double-white-chocolate-cake-recipe/\n",
      "https://www.igp.com/p-delicious-chocolate-cake-with-premium-frosting-1-kg--135597\n",
      "https://www.bakingo.com/birthday-cakes\n",
      "https://www.cakeskart.com/shop/product/vnspc01-1-5kg-vanilla-spice-cake-344\n",
      "https://www.fnp.com/cakes\n",
      "https://cakewhiz.com/best-birthday-cake-recipe/\n",
      "https://en.wikipedia.org/wiki/Cake\n",
      "https://cakesonline.monginis.net/\n"
     ]
    }
   ],
   "source": [
    "url3=driver.find_elements(By.XPATH,'//a[@class=\"VFACy kGQAp sMi44c d0NI4c lNHeqe WGvvNb\"]')\n",
    "for i in url3[0:10]:\n",
    "    \n",
    "    print(i.get_attribute('href'))\n",
    "    "
   ]
  },
  {
   "cell_type": "code",
   "execution_count": null,
   "id": "55a5c37b",
   "metadata": {},
   "outputs": [],
   "source": []
  }
 ],
 "metadata": {
  "kernelspec": {
   "display_name": "Python 3 (ipykernel)",
   "language": "python",
   "name": "python3"
  },
  "language_info": {
   "codemirror_mode": {
    "name": "ipython",
    "version": 3
   },
   "file_extension": ".py",
   "mimetype": "text/x-python",
   "name": "python",
   "nbconvert_exporter": "python",
   "pygments_lexer": "ipython3",
   "version": "3.9.12"
  }
 },
 "nbformat": 4,
 "nbformat_minor": 5
}
