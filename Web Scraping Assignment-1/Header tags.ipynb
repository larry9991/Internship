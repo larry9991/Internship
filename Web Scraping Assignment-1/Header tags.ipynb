{
 "cells": [
  {
   "cell_type": "code",
   "execution_count": 1,
   "id": "ed1b2ac0",
   "metadata": {},
   "outputs": [
    {
     "name": "stdout",
     "output_type": "stream",
     "text": [
      "h1--Main Page\n",
      "h1--Welcome to Wikipedia\n",
      "h2--From today's featured article\n",
      "h2--Did you know ...\n",
      "h2--In the news\n",
      "h2--On this day\n",
      "h2--Today's featured picture\n",
      "h2--Other areas of Wikipedia\n",
      "h2--Wikipedia's sister projects\n",
      "h2--Wikipedia languages\n",
      "h2--Navigation menu\n",
      "h3--Personal tools\n",
      "h3--Namespaces\n",
      "h3--Views\n",
      "h3--Search\n",
      "h3--Navigation\n",
      "h3--Contribute\n",
      "h3--Tools\n",
      "h3--Print/export\n",
      "h3--In other projects\n",
      "h3--Languages\n"
     ]
    }
   ],
   "source": [
    "from bs4 import BeautifulSoup\n",
    "import numpy as np\n",
    "import pandas as pd\n",
    "import requests\n",
    "\n",
    "\n",
    "url=\"https://en.wikipedia.org/wiki/Main_Page\"\n",
    "req=requests.get(url)\n",
    "soup=BeautifulSoup(req.text,'html.parser')\n",
    "wiki=soup.find_all(['h1','h2','h3'])\n",
    "for i in wiki:\n",
    "    print(i.name +'--'+ i.text.strip())\n"
   ]
  },
  {
   "cell_type": "code",
   "execution_count": null,
   "id": "f65fe3a5",
   "metadata": {},
   "outputs": [],
   "source": [
    "\n"
   ]
  },
  {
   "cell_type": "code",
   "execution_count": null,
   "id": "1536619e",
   "metadata": {},
   "outputs": [],
   "source": []
  },
  {
   "cell_type": "code",
   "execution_count": null,
   "id": "b7e68e7e",
   "metadata": {},
   "outputs": [],
   "source": []
  }
 ],
 "metadata": {
  "kernelspec": {
   "display_name": "Python 3 (ipykernel)",
   "language": "python",
   "name": "python3"
  },
  "language_info": {
   "codemirror_mode": {
    "name": "ipython",
    "version": 3
   },
   "file_extension": ".py",
   "mimetype": "text/x-python",
   "name": "python",
   "nbconvert_exporter": "python",
   "pygments_lexer": "ipython3",
   "version": "3.9.12"
  }
 },
 "nbformat": 4,
 "nbformat_minor": 5
}
